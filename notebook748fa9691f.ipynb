{
 "cells": [
  {
   "cell_type": "code",
   "execution_count": 1,
   "id": "bf212553",
   "metadata": {
    "_cell_guid": "b1076dfc-b9ad-4769-8c92-a6c4dae69d19",
    "_uuid": "8f2839f25d086af736a60e9eeb907d3b93b6e0e5",
    "execution": {
     "iopub.execute_input": "2023-08-05T07:21:07.494468Z",
     "iopub.status.busy": "2023-08-05T07:21:07.494017Z",
     "iopub.status.idle": "2023-08-05T07:21:07.509318Z",
     "shell.execute_reply": "2023-08-05T07:21:07.508160Z"
    },
    "papermill": {
     "duration": 0.024579,
     "end_time": "2023-08-05T07:21:07.512273",
     "exception": false,
     "start_time": "2023-08-05T07:21:07.487694",
     "status": "completed"
    },
    "tags": []
   },
   "outputs": [
    {
     "name": "stdout",
     "output_type": "stream",
     "text": [
      "/kaggle/input/digit-recognizer/sample_submission.csv\n",
      "/kaggle/input/digit-recognizer/train.csv\n",
      "/kaggle/input/digit-recognizer/test.csv\n"
     ]
    }
   ],
   "source": [
    "# This Python 3 environment comes with many helpful analytics libraries installed\n",
    "# It is defined by the kaggle/python Docker image: https://github.com/kaggle/docker-python\n",
    "# For example, here's several helpful packages to load\n",
    "\n",
    "import numpy as np # linear algebra\n",
    "import pandas as pd # data processing, CSV file I/O (e.g. pd.read_csv)\n",
    "\n",
    "# Input data files are available in the read-only \"../input/\" directory\n",
    "# For example, running this (by clicking run or pressing Shift+Enter) will list all files under the input directory\n",
    "\n",
    "import os\n",
    "for dirname, _, filenames in os.walk('/kaggle/input'):\n",
    "    for filename in filenames:\n",
    "        print(os.path.join(dirname, filename))\n",
    "\n",
    "# You can write up to 20GB to the current directory (/kaggle/working/) that gets preserved as output when you create a version using \"Save & Run All\" \n",
    "# You can also write temporary files to /kaggle/temp/, but they won't be saved outside of the current session"
   ]
  },
  {
   "cell_type": "code",
   "execution_count": 2,
   "id": "9b8e489e",
   "metadata": {
    "execution": {
     "iopub.execute_input": "2023-08-05T07:21:07.522878Z",
     "iopub.status.busy": "2023-08-05T07:21:07.522215Z",
     "iopub.status.idle": "2023-08-05T07:21:11.757214Z",
     "shell.execute_reply": "2023-08-05T07:21:11.755928Z"
    },
    "papermill": {
     "duration": 4.243398,
     "end_time": "2023-08-05T07:21:11.760054",
     "exception": false,
     "start_time": "2023-08-05T07:21:07.516656",
     "status": "completed"
    },
    "tags": []
   },
   "outputs": [],
   "source": [
    "from matplotlib import pyplot as plt\n",
    "\n",
    "data = pd.read_csv('/kaggle/input/digit-recognizer/train.csv')"
   ]
  },
  {
   "cell_type": "code",
   "execution_count": null,
   "id": "08678de3",
   "metadata": {
    "_kg_hide-input": true,
    "_kg_hide-output": true,
    "papermill": {
     "duration": 0.003829,
     "end_time": "2023-08-05T07:21:11.768566",
     "exception": false,
     "start_time": "2023-08-05T07:21:11.764737",
     "status": "completed"
    },
    "tags": []
   },
   "outputs": [],
   "source": []
  },
  {
   "cell_type": "code",
   "execution_count": 3,
   "id": "5ea7be43",
   "metadata": {
    "execution": {
     "iopub.execute_input": "2023-08-05T07:21:11.778642Z",
     "iopub.status.busy": "2023-08-05T07:21:11.778183Z",
     "iopub.status.idle": "2023-08-05T07:21:12.569275Z",
     "shell.execute_reply": "2023-08-05T07:21:12.568051Z"
    },
    "papermill": {
     "duration": 0.799363,
     "end_time": "2023-08-05T07:21:12.572178",
     "exception": false,
     "start_time": "2023-08-05T07:21:11.772815",
     "status": "completed"
    },
    "tags": []
   },
   "outputs": [],
   "source": [
    "data=np.array(data)\n",
    "m,n=data.shape\n",
    "np.random.shuffle(data)\n",
    "data_dev = data[0:1000].T\n",
    "Y_dev = data_dev[0]\n",
    "X_dev = data_dev[1:n]\n",
    "data_train = data[1000:m].T\n",
    "Y_train = data_train[0]\n",
    "X_train = data_train[1:n]\n",
    "X_train = X_train / 255.\n",
    "_,m_train = X_train.shape\n",
    "\n"
   ]
  },
  {
   "cell_type": "code",
   "execution_count": 4,
   "id": "8bf11ef6",
   "metadata": {
    "execution": {
     "iopub.execute_input": "2023-08-05T07:21:12.582831Z",
     "iopub.status.busy": "2023-08-05T07:21:12.582396Z",
     "iopub.status.idle": "2023-08-05T07:21:12.597360Z",
     "shell.execute_reply": "2023-08-05T07:21:12.596040Z"
    },
    "papermill": {
     "duration": 0.023297,
     "end_time": "2023-08-05T07:21:12.599912",
     "exception": false,
     "start_time": "2023-08-05T07:21:12.576615",
     "status": "completed"
    },
    "tags": []
   },
   "outputs": [],
   "source": [
    "def init_params():\n",
    "    W1 = np.random.rand(10, 784) - 0.5\n",
    "    b1 = np.random.rand(10, 1) - 0.5\n",
    "    W2 = np.random.rand(10, 10) - 0.5\n",
    "    b2 = np.random.rand(10, 1) - 0.5\n",
    "    return W1, b1, W2, b2\n",
    "def ReLU(Z):\n",
    "    return np.maximum(Z,0)\n",
    "def softmax(Z):\n",
    "    A = np.exp(Z) / sum(np.exp(Z))\n",
    "    return A    \n",
    "def forward_prop(W1, b1, W2, b2, X):\n",
    "    Z1 = W1.dot(X) + b1\n",
    "    A1 = ReLU(Z1)\n",
    "    Z2 = W2.dot(A1) + b2\n",
    "    A2 = softmax(Z2)\n",
    "    return Z1, A1, Z2, A2\n",
    "def ReLU_deriv(Z):\n",
    "    return Z > 0\n",
    "def one_hot(Y):\n",
    "    one_hot_Y = np.zeros((Y.size, Y.max() + 1))\n",
    "    one_hot_Y[np.arange(Y.size), Y] = 1\n",
    "    one_hot_Y = one_hot_Y.T\n",
    "    return one_hot_Y\n",
    "def backward_prop(Z1, A1, Z2, A2, W1, W2, X, Y):\n",
    "    one_hot_Y = one_hot(Y)\n",
    "    dZ2 = A2 - one_hot_Y\n",
    "    dW2 = 1 / m * dZ2.dot(A1.T)\n",
    "    db2 = 1 / m * np.sum(dZ2)\n",
    "    dZ1 = W2.T.dot(dZ2) * ReLU_deriv(Z1)\n",
    "    dW1 = 1 / m * dZ1.dot(X.T)\n",
    "    db1 = 1 / m * np.sum(dZ1)\n",
    "    return dW1, db1, dW2, db2\n",
    "\n",
    "def update_params(W1, b1, W2, b2, dW1, db1, dW2, db2, alpha):\n",
    "    W1 = W1 - alpha * dW1\n",
    "    b1 = b1 - alpha * db1    \n",
    "    W2 = W2 - alpha * dW2  \n",
    "    b2 = b2 - alpha * db2    \n",
    "    return W1, b1, W2, b2"
   ]
  },
  {
   "cell_type": "code",
   "execution_count": 5,
   "id": "5f01a7d7",
   "metadata": {
    "execution": {
     "iopub.execute_input": "2023-08-05T07:21:12.610215Z",
     "iopub.status.busy": "2023-08-05T07:21:12.609789Z",
     "iopub.status.idle": "2023-08-05T07:21:12.619269Z",
     "shell.execute_reply": "2023-08-05T07:21:12.618091Z"
    },
    "papermill": {
     "duration": 0.017414,
     "end_time": "2023-08-05T07:21:12.621626",
     "exception": false,
     "start_time": "2023-08-05T07:21:12.604212",
     "status": "completed"
    },
    "tags": []
   },
   "outputs": [],
   "source": [
    "def get_predictions(A2):\n",
    "    return np.argmax(A2, 0)\n",
    "def get_accuracy(predictions, Y):\n",
    "    print(predictions, Y)\n",
    "    return np.sum(predictions == Y) / Y.size\n",
    "def gradient_descent(X,Y,alpha,iterations):\n",
    "    W1, b1, W2, b2 = init_params()\n",
    "    for i in range(iterations):\n",
    "        Z1, A1, Z2, A2 = forward_prop(W1, b1, W2, b2, X)\n",
    "        dW1, db1, dW2, db2 = backward_prop(Z1, A1, Z2, A2, W1, W2, X, Y)\n",
    "        W1, b1, W2, b2 = update_params(W1, b1, W2, b2, dW1, db1, dW2, db2, alpha)\n",
    "        if i % 10 == 0:\n",
    "            print(\"Iteration: \", i)\n",
    "            predictions = get_predictions(A2)\n",
    "            print(get_accuracy(predictions, Y))\n",
    "    return W1, b1, W2, b2"
   ]
  },
  {
   "cell_type": "code",
   "execution_count": 6,
   "id": "7e8afc02",
   "metadata": {
    "execution": {
     "iopub.execute_input": "2023-08-05T07:21:12.632211Z",
     "iopub.status.busy": "2023-08-05T07:21:12.631287Z",
     "iopub.status.idle": "2023-08-05T07:22:28.243427Z",
     "shell.execute_reply": "2023-08-05T07:22:28.241741Z"
    },
    "papermill": {
     "duration": 75.622632,
     "end_time": "2023-08-05T07:22:28.248453",
     "exception": false,
     "start_time": "2023-08-05T07:21:12.625821",
     "status": "completed"
    },
    "tags": []
   },
   "outputs": [
    {
     "name": "stdout",
     "output_type": "stream",
     "text": [
      "Iteration:  0\n",
      "[0 7 8 ... 7 0 0] [9 3 8 ... 6 5 8]\n",
      "0.10317073170731707\n",
      "Iteration:  10\n",
      "[1 7 5 ... 6 0 4] [9 3 8 ... 6 5 8]\n",
      "0.5012682926829268\n",
      "Iteration:  20\n",
      "[1 3 3 ... 2 5 3] [9 3 8 ... 6 5 8]\n",
      "0.478390243902439\n",
      "Iteration:  30\n",
      "[4 3 0 ... 2 5 8] [9 3 8 ... 6 5 8]\n",
      "0.4811463414634146\n",
      "Iteration:  40\n",
      "[9 3 8 ... 2 5 8] [9 3 8 ... 6 5 8]\n",
      "0.6480975609756098\n",
      "Iteration:  50\n",
      "[9 3 8 ... 6 5 8] [9 3 8 ... 6 5 8]\n",
      "0.6900243902439024\n",
      "Iteration:  60\n",
      "[9 3 8 ... 6 5 8] [9 3 8 ... 6 5 8]\n",
      "0.7508048780487805\n",
      "Iteration:  70\n",
      "[9 3 8 ... 6 5 8] [9 3 8 ... 6 5 8]\n",
      "0.8054878048780488\n",
      "Iteration:  80\n",
      "[9 3 8 ... 6 5 3] [9 3 8 ... 6 5 8]\n",
      "0.8203658536585365\n",
      "Iteration:  90\n",
      "[9 3 8 ... 6 5 3] [9 3 8 ... 6 5 8]\n",
      "0.8412682926829268\n",
      "Iteration:  100\n",
      "[9 3 8 ... 6 5 3] [9 3 8 ... 6 5 8]\n",
      "0.835\n",
      "Iteration:  110\n",
      "[9 3 8 ... 6 5 3] [9 3 8 ... 6 5 8]\n",
      "0.8558780487804878\n",
      "Iteration:  120\n",
      "[9 3 8 ... 6 5 8] [9 3 8 ... 6 5 8]\n",
      "0.8578292682926829\n",
      "Iteration:  130\n",
      "[9 3 8 ... 6 5 8] [9 3 8 ... 6 5 8]\n",
      "0.8445365853658536\n",
      "Iteration:  140\n",
      "[9 3 8 ... 6 5 8] [9 3 8 ... 6 5 8]\n",
      "0.8836585365853659\n",
      "Iteration:  150\n",
      "[9 3 8 ... 6 5 8] [9 3 8 ... 6 5 8]\n",
      "0.8638048780487805\n",
      "Iteration:  160\n",
      "[9 3 8 ... 6 5 8] [9 3 8 ... 6 5 8]\n",
      "0.8878780487804878\n",
      "Iteration:  170\n",
      "[9 3 8 ... 6 5 8] [9 3 8 ... 6 5 8]\n",
      "0.8815365853658537\n",
      "Iteration:  180\n",
      "[9 3 8 ... 6 5 8] [9 3 8 ... 6 5 8]\n",
      "0.8837073170731707\n",
      "Iteration:  190\n",
      "[9 3 8 ... 6 5 8] [9 3 8 ... 6 5 8]\n",
      "0.8816341463414634\n",
      "Iteration:  200\n",
      "[9 3 8 ... 6 5 8] [9 3 8 ... 6 5 8]\n",
      "0.8939512195121951\n",
      "Iteration:  210\n",
      "[9 3 8 ... 6 5 8] [9 3 8 ... 6 5 8]\n",
      "0.8839024390243903\n",
      "Iteration:  220\n",
      "[9 3 8 ... 6 5 8] [9 3 8 ... 6 5 8]\n",
      "0.8978780487804878\n",
      "Iteration:  230\n",
      "[9 3 8 ... 6 5 8] [9 3 8 ... 6 5 8]\n",
      "0.8984634146341464\n",
      "Iteration:  240\n",
      "[9 3 8 ... 6 5 8] [9 3 8 ... 6 5 8]\n",
      "0.8886585365853659\n",
      "Iteration:  250\n",
      "[9 3 8 ... 6 5 8] [9 3 8 ... 6 5 8]\n",
      "0.9046341463414634\n",
      "Iteration:  260\n",
      "[9 3 8 ... 6 5 8] [9 3 8 ... 6 5 8]\n",
      "0.8706341463414634\n",
      "Iteration:  270\n",
      "[9 3 8 ... 6 5 8] [9 3 8 ... 6 5 8]\n",
      "0.9064390243902439\n",
      "Iteration:  280\n",
      "[9 3 8 ... 6 5 8] [9 3 8 ... 6 5 8]\n",
      "0.9091707317073171\n",
      "Iteration:  290\n",
      "[9 3 8 ... 6 5 8] [9 3 8 ... 6 5 8]\n",
      "0.8851463414634146\n",
      "Iteration:  300\n",
      "[9 3 8 ... 6 5 8] [9 3 8 ... 6 5 8]\n",
      "0.9091463414634147\n",
      "Iteration:  310\n",
      "[9 3 8 ... 6 5 8] [9 3 8 ... 6 5 8]\n",
      "0.9035609756097561\n",
      "Iteration:  320\n",
      "[9 3 8 ... 6 5 8] [9 3 8 ... 6 5 8]\n",
      "0.8995121951219512\n",
      "Iteration:  330\n",
      "[9 3 8 ... 6 5 8] [9 3 8 ... 6 5 8]\n",
      "0.9124634146341464\n",
      "Iteration:  340\n",
      "[9 3 8 ... 6 5 3] [9 3 8 ... 6 5 8]\n",
      "0.9089024390243903\n",
      "Iteration:  350\n",
      "[9 3 8 ... 6 5 3] [9 3 8 ... 6 5 8]\n",
      "0.8858780487804878\n",
      "Iteration:  360\n",
      "[9 3 8 ... 6 5 8] [9 3 8 ... 6 5 8]\n",
      "0.9150487804878049\n",
      "Iteration:  370\n",
      "[9 3 8 ... 6 5 8] [9 3 8 ... 6 5 8]\n",
      "0.9151463414634147\n",
      "Iteration:  380\n",
      "[9 3 8 ... 6 5 3] [9 3 8 ... 6 5 8]\n",
      "0.8696829268292683\n",
      "Iteration:  390\n",
      "[9 3 8 ... 6 5 8] [9 3 8 ... 6 5 8]\n",
      "0.9152439024390244\n",
      "Iteration:  400\n",
      "[9 3 8 ... 6 5 8] [9 3 8 ... 6 5 8]\n",
      "0.9175609756097561\n",
      "Iteration:  410\n",
      "[9 3 8 ... 6 5 8] [9 3 8 ... 6 5 8]\n",
      "0.9162439024390244\n",
      "Iteration:  420\n",
      "[9 3 8 ... 6 5 8] [9 3 8 ... 6 5 8]\n",
      "0.8589756097560975\n",
      "Iteration:  430\n",
      "[9 3 8 ... 6 5 8] [9 3 8 ... 6 5 8]\n",
      "0.9182926829268293\n",
      "Iteration:  440\n",
      "[9 3 8 ... 6 5 8] [9 3 8 ... 6 5 8]\n",
      "0.9195853658536586\n",
      "Iteration:  450\n",
      "[9 3 8 ... 6 5 8] [9 3 8 ... 6 5 8]\n",
      "0.9193658536585366\n",
      "Iteration:  460\n",
      "[9 3 8 ... 6 5 8] [9 3 8 ... 6 5 8]\n",
      "0.8610243902439024\n",
      "Iteration:  470\n",
      "[9 3 8 ... 6 5 8] [9 3 8 ... 6 5 8]\n",
      "0.9200975609756098\n",
      "Iteration:  480\n",
      "[9 3 8 ... 6 5 8] [9 3 8 ... 6 5 8]\n",
      "0.9210975609756098\n",
      "Iteration:  490\n",
      "[9 3 8 ... 6 5 8] [9 3 8 ... 6 5 8]\n",
      "0.9211219512195122\n"
     ]
    }
   ],
   "source": [
    "W1, b1, W2, b2 = gradient_descent(X_train, Y_train, 1.0, 500)"
   ]
  },
  {
   "cell_type": "code",
   "execution_count": 7,
   "id": "00020850",
   "metadata": {
    "execution": {
     "iopub.execute_input": "2023-08-05T07:22:28.287968Z",
     "iopub.status.busy": "2023-08-05T07:22:28.286987Z",
     "iopub.status.idle": "2023-08-05T07:22:28.307019Z",
     "shell.execute_reply": "2023-08-05T07:22:28.305393Z"
    },
    "papermill": {
     "duration": 0.045637,
     "end_time": "2023-08-05T07:22:28.312593",
     "exception": false,
     "start_time": "2023-08-05T07:22:28.266956",
     "status": "completed"
    },
    "tags": []
   },
   "outputs": [],
   "source": [
    "def make_predictions(X, W1, b1, W2, b2):\n",
    "    _, _, _, A2 = forward_prop(W1, b1, W2, b2, X)\n",
    "    predictions = get_predictions(A2)\n",
    "    return predictions\n",
    "\n",
    "def test_prediction(index, W1, b1, W2, b2):\n",
    "    current_image = X_train[:, index, None]\n",
    "    prediction = make_predictions(X_train[:, index, None], W1, b1, W2, b2)\n",
    "    label = Y_train[index]\n",
    "    print(\"Prediction: \", prediction)\n",
    "    print(\"Label: \", label)\n",
    "    \n",
    "    current_image = current_image.reshape((28, 28)) * 255\n",
    "    plt.gray()\n",
    "    plt.imshow(current_image, interpolation='nearest')\n",
    "    plt.show()"
   ]
  },
  {
   "cell_type": "code",
   "execution_count": 8,
   "id": "d2f8c892",
   "metadata": {
    "execution": {
     "iopub.execute_input": "2023-08-05T07:22:28.351285Z",
     "iopub.status.busy": "2023-08-05T07:22:28.350615Z",
     "iopub.status.idle": "2023-08-05T07:22:28.637750Z",
     "shell.execute_reply": "2023-08-05T07:22:28.636610Z"
    },
    "papermill": {
     "duration": 0.309694,
     "end_time": "2023-08-05T07:22:28.640342",
     "exception": false,
     "start_time": "2023-08-05T07:22:28.330648",
     "status": "completed"
    },
    "tags": []
   },
   "outputs": [
    {
     "name": "stdout",
     "output_type": "stream",
     "text": [
      "Prediction:  [5]\n",
      "Label:  5\n"
     ]
    },
    {
     "data": {
      "image/png": "[encoded data removed]",
      "text/plain": [
       "<Figure size 640x480 with 1 Axes>"
      ]
     },
     "metadata": {},
     "output_type": "display_data"
    }
   ],
   "source": [
    "test_prediction(9, W1, b1, W2, b2)"
   ]
  }
 ],
 "metadata": {
  "kernelspec": {
   "display_name": "Python 3",
   "language": "python",
   "name": "python3"
  },
  "language_info": {
   "codemirror_mode": {
    "name": "ipython",
    "version": 3
   },
   "file_extension": ".py",
   "mimetype": "text/x-python",
   "name": "python",
   "nbconvert_exporter": "python",
   "pygments_lexer": "ipython3",
   "version": "3.10.12"
  },
  "papermill": {
   "default_parameters": {},
   "duration": 94.285384,
   "end_time": "2023-08-05T07:22:29.573605",
   "environment_variables": {},
   "exception": null,
   "input_path": "__notebook__.ipynb",
   "output_path": "__notebook__.ipynb",
   "parameters": {},
   "start_time": "2023-08-05T07:20:55.288221",
   "version": "2.4.0"
  }
 },
 "nbformat": 4,
 "nbformat_minor": 5
}
